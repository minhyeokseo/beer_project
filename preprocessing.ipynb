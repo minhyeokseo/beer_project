{
 "cells": [
  {
   "cell_type": "code",
   "execution_count": 1,
   "id": "f0fd0542-1fdb-472d-8f62-de3576105263",
   "metadata": {},
   "outputs": [],
   "source": [
    "import re\n",
    "import pandas as pd\n"
   ]
  },
  {
   "cell_type": "markdown",
   "id": "60f261e0-23b6-4364-ac5a-99aac139e5a6",
   "metadata": {},
   "source": [
    "# 데이터 합치기"
   ]
  },
  {
   "cell_type": "code",
   "execution_count": 2,
   "id": "c16104f7-2169-4013-a1a0-dda288de7bb3",
   "metadata": {},
   "outputs": [],
   "source": [
    "\n",
    "# 합칠 데이터 프레임\n",
    "data = pd.DataFrame(data=[], columns=['맥주정보', '검색이름', '맥주이름'])\n",
    "\n",
    "# 수집한 파일의 개수\n",
    "files_cnt = 73\n",
    "\n",
    "for i in range(files_cnt):\n",
    "\n",
    "    try : \n",
    "        tmp = pd.read_csv(r'C:\\Users\\User\\졸작\\beer_n_n\\beer_n_'+str(i)+'.csv', index_col=0)\n",
    "        data = pd.concat([data,tmp])\n",
    "    # 오류 발생 시 넘기기\n",
    "    except :\n",
    "        print(i, '번째에서 오류 발생')\n",
    "\n",
    "\n",
    "data.to_csv('beer_df.csv', encoding='utf-8')"
   ]
  },
  {
   "cell_type": "code",
   "execution_count": 3,
   "id": "7f89cc57-ac49-4877-a329-06e3dd628e65",
   "metadata": {},
   "outputs": [],
   "source": [
    "df=pd.read_csv('beer_df.csv',encoding='utf-8',index_col=0)"
   ]
  },
  {
   "cell_type": "markdown",
   "id": "1f1e51c2-5415-45b7-8f10-ab7ad3f24a11",
   "metadata": {},
   "source": [
    "# 크롤링 데이터"
   ]
  },
  {
   "cell_type": "code",
   "execution_count": 4,
   "id": "56439dce-adf2-4189-be70-cf4f80c4ce5c",
   "metadata": {
    "scrolled": true
   },
   "outputs": [],
   "source": [
    "#인덱스 리셋시켜주고 인덱스 열 삭제\n",
    "df.reset_index(drop=True,inplace=True)"
   ]
  },
  {
   "cell_type": "code",
   "execution_count": 5,
   "id": "2d50b7aa-1166-4dc2-948d-bc7ab583a77e",
   "metadata": {
    "scrolled": true
   },
   "outputs": [
    {
     "data": {
      "text/html": [
       "<div>\n",
       "<style scoped>\n",
       "    .dataframe tbody tr th:only-of-type {\n",
       "        vertical-align: middle;\n",
       "    }\n",
       "\n",
       "    .dataframe tbody tr th {\n",
       "        vertical-align: top;\n",
       "    }\n",
       "\n",
       "    .dataframe thead th {\n",
       "        text-align: right;\n",
       "    }\n",
       "</style>\n",
       "<table border=\"1\" class=\"dataframe\">\n",
       "  <thead>\n",
       "    <tr style=\"text-align: right;\">\n",
       "      <th></th>\n",
       "      <th>맥주정보</th>\n",
       "      <th>검색이름</th>\n",
       "      <th>맥주이름</th>\n",
       "    </tr>\n",
       "  </thead>\n",
       "  <tbody>\n",
       "    <tr>\n",
       "      <th>0</th>\n",
       "      <td>vinivini(9,584)\\n🇧🇾Homiel, Belarus\\n2.9Decembe...</td>\n",
       "      <td>kloud</td>\n",
       "      <td>Kloud Original Gravity</td>\n",
       "    </tr>\n",
       "    <tr>\n",
       "      <th>1</th>\n",
       "      <td>italianjohn(5,521)\\n🇺🇸Penndel, United States\\n...</td>\n",
       "      <td>kloud</td>\n",
       "      <td>Kloud Original Gravity</td>\n",
       "    </tr>\n",
       "    <tr>\n",
       "      <th>2</th>\n",
       "      <td>orda(296)\\n🇺🇸Aurora, United States\\n3.9August ...</td>\n",
       "      <td>kloud</td>\n",
       "      <td>Kloud Original Gravity</td>\n",
       "    </tr>\n",
       "    <tr>\n",
       "      <th>3</th>\n",
       "      <td>Radek Kliber(8,125)\\n🇨🇦Toronto (Can) Krotoszyn...</td>\n",
       "      <td>kloud</td>\n",
       "      <td>Kloud Original Gravity</td>\n",
       "    </tr>\n",
       "    <tr>\n",
       "      <th>4</th>\n",
       "      <td>geologyguy(2,602)\\n🇺🇸Columbia, United States\\n...</td>\n",
       "      <td>kloud</td>\n",
       "      <td>Kloud Original Gravity</td>\n",
       "    </tr>\n",
       "    <tr>\n",
       "      <th>...</th>\n",
       "      <td>...</td>\n",
       "      <td>...</td>\n",
       "      <td>...</td>\n",
       "    </tr>\n",
       "    <tr>\n",
       "      <th>76957</th>\n",
       "      <td>Shadallion(534)\\n🇺🇸Sacramento, United States\\n...</td>\n",
       "      <td>Erdinger Dunkel</td>\n",
       "      <td>Erdinger Weissbier Dunkel</td>\n",
       "    </tr>\n",
       "    <tr>\n",
       "      <th>76958</th>\n",
       "      <td>loucynt(101)\\n🇺🇸United States\\n4.2May 16, 2001...</td>\n",
       "      <td>Erdinger Dunkel</td>\n",
       "      <td>Erdinger Weissbier Dunkel</td>\n",
       "    </tr>\n",
       "    <tr>\n",
       "      <th>76959</th>\n",
       "      <td>karl(157)\\n🇺🇸Glendale, United States\\n4.0Novem...</td>\n",
       "      <td>Erdinger Dunkel</td>\n",
       "      <td>Erdinger Weissbier Dunkel</td>\n",
       "    </tr>\n",
       "    <tr>\n",
       "      <th>76960</th>\n",
       "      <td>jamidwyer99(49)\\n🇺🇸United States\\n4.6July 4, 2...</td>\n",
       "      <td>Erdinger Dunkel</td>\n",
       "      <td>Erdinger Weissbier Dunkel</td>\n",
       "    </tr>\n",
       "    <tr>\n",
       "      <th>76961</th>\n",
       "      <td>Bov(14,982)\\n🇨🇭Bienne, Switzerland\\n2.5October...</td>\n",
       "      <td>Erdinger Dunkel</td>\n",
       "      <td>Erdinger Weissbier Dunkel</td>\n",
       "    </tr>\n",
       "  </tbody>\n",
       "</table>\n",
       "<p>76962 rows × 3 columns</p>\n",
       "</div>"
      ],
      "text/plain": [
       "                                                    맥주정보             검색이름  \\\n",
       "0      vinivini(9,584)\\n🇧🇾Homiel, Belarus\\n2.9Decembe...            kloud   \n",
       "1      italianjohn(5,521)\\n🇺🇸Penndel, United States\\n...            kloud   \n",
       "2      orda(296)\\n🇺🇸Aurora, United States\\n3.9August ...            kloud   \n",
       "3      Radek Kliber(8,125)\\n🇨🇦Toronto (Can) Krotoszyn...            kloud   \n",
       "4      geologyguy(2,602)\\n🇺🇸Columbia, United States\\n...            kloud   \n",
       "...                                                  ...              ...   \n",
       "76957  Shadallion(534)\\n🇺🇸Sacramento, United States\\n...  Erdinger Dunkel   \n",
       "76958  loucynt(101)\\n🇺🇸United States\\n4.2May 16, 2001...  Erdinger Dunkel   \n",
       "76959  karl(157)\\n🇺🇸Glendale, United States\\n4.0Novem...  Erdinger Dunkel   \n",
       "76960  jamidwyer99(49)\\n🇺🇸United States\\n4.6July 4, 2...  Erdinger Dunkel   \n",
       "76961  Bov(14,982)\\n🇨🇭Bienne, Switzerland\\n2.5October...  Erdinger Dunkel   \n",
       "\n",
       "                            맥주이름  \n",
       "0         Kloud Original Gravity  \n",
       "1         Kloud Original Gravity  \n",
       "2         Kloud Original Gravity  \n",
       "3         Kloud Original Gravity  \n",
       "4         Kloud Original Gravity  \n",
       "...                          ...  \n",
       "76957  Erdinger Weissbier Dunkel  \n",
       "76958  Erdinger Weissbier Dunkel  \n",
       "76959  Erdinger Weissbier Dunkel  \n",
       "76960  Erdinger Weissbier Dunkel  \n",
       "76961  Erdinger Weissbier Dunkel  \n",
       "\n",
       "[76962 rows x 3 columns]"
      ]
     },
     "execution_count": 5,
     "metadata": {},
     "output_type": "execute_result"
    }
   ],
   "source": [
    "df"
   ]
  },
  {
   "cell_type": "code",
   "execution_count": 6,
   "id": "0e29746f-514c-4305-8533-817584dd198a",
   "metadata": {},
   "outputs": [],
   "source": [
    "df_1=df.copy()"
   ]
  },
  {
   "cell_type": "code",
   "execution_count": 7,
   "id": "625a206e-320d-4648-bc1c-61cb8f064d99",
   "metadata": {
    "scrolled": true
   },
   "outputs": [
    {
     "data": {
      "text/plain": [
       "'vinivini(9,584)\\n🇧🇾Homiel, Belarus\\n2.9December 29, 2022\\nStraight from the can.\\nClean, malty, bready & grassy. Light sweet, light to medium bitter.\\nMouth feel: light to medium body, avera to lively carbonation.\\nSummary: ok lager\\nShow less\\nCAN\\nAroma\\n5\\nAppearance\\n4\\nFlavor\\n6\\nMouthfeel\\n4\\nOverall\\n10'"
      ]
     },
     "execution_count": 7,
     "metadata": {},
     "output_type": "execute_result"
    }
   ],
   "source": [
    "###맥주의 리뷰,평점, 맛 척도등 전부 들어가있다.\n",
    "df_1['맥주정보'].iloc[0]"
   ]
  },
  {
   "cell_type": "code",
   "execution_count": 8,
   "id": "e54929ae-2555-4d5b-9926-b73ce1e1e8b6",
   "metadata": {},
   "outputs": [],
   "source": [
    "# \\n 개행문자 기준으로 분리\n",
    "df_1['맥주정보'] = df_1['맥주정보'].str.split('\\n')\n"
   ]
  },
  {
   "cell_type": "code",
   "execution_count": 9,
   "id": "5dabe647-9ede-4e63-8bb5-32a0a3cb49a5",
   "metadata": {
    "scrolled": true
   },
   "outputs": [
    {
     "data": {
      "text/plain": [
       "['GuideDogSaint(3,470)',\n",
       " '🇨🇳Xiamen, China',\n",
       " '2.2February 8, 2020',\n",
       " 'Small can from a supermarket in Phnom Penh. Pours golden yellow with a dissipating white head. Aroma of malt. Hint of lemon in the sweet taste. Sweet finish.',\n",
       " 'Aroma',\n",
       " '4',\n",
       " 'Appearance',\n",
       " '2',\n",
       " 'Flavor',\n",
       " '5',\n",
       " 'Mouthfeel',\n",
       " '2',\n",
       " 'Overall',\n",
       " '9']"
      ]
     },
     "execution_count": 9,
     "metadata": {},
     "output_type": "execute_result"
    }
   ],
   "source": [
    "df_1['맥주정보'].iloc[10]"
   ]
  },
  {
   "cell_type": "code",
   "execution_count": 10,
   "id": "bbc10889-3144-4845-a56a-c0e1771cf5a3",
   "metadata": {
    "scrolled": true
   },
   "outputs": [
    {
     "data": {
      "text/plain": [
       "['Viper666.Qc(10,517)',\n",
       " '🇨🇦Richelieu, Canada',\n",
       " '2.7September 6, 2019',\n",
       " 'Dégustée le 2019-08-19.                                                                                                                                             .',\n",
       " 'BOTTLE',\n",
       " 'Aroma',\n",
       " '5',\n",
       " 'Appearance',\n",
       " '3',\n",
       " 'Flavor',\n",
       " '6',\n",
       " 'Mouthfeel',\n",
       " '3',\n",
       " 'Overall',\n",
       " '10',\n",
       " '1']"
      ]
     },
     "execution_count": 10,
     "metadata": {},
     "output_type": "execute_result"
    }
   ],
   "source": [
    "### 마지막값이 좋아요로 인해 1로 하나 더생김\n",
    "df_1['맥주정보'].iloc[16]"
   ]
  },
  {
   "cell_type": "code",
   "execution_count": 11,
   "id": "9a47181f-1ba8-47a0-942f-2d6df95fe571",
   "metadata": {},
   "outputs": [],
   "source": [
    "# 전체 데이터프레임에서 좋아요가 1개인 것 찾아서 맨 뒤에 것 삭제\n",
    "df_1['맥주정보'] = df_1['맥주정보'].apply(lambda x : x if x[-2]=='Overall' else x[:-1] )"
   ]
  },
  {
   "cell_type": "code",
   "execution_count": 12,
   "id": "074adece-ccce-4375-8ef4-851bd5bbb0d8",
   "metadata": {},
   "outputs": [
    {
     "data": {
      "text/plain": [
       "['Viper666.Qc(10,517)',\n",
       " '🇨🇦Richelieu, Canada',\n",
       " '2.7September 6, 2019',\n",
       " 'Dégustée le 2019-08-19.                                                                                                                                             .',\n",
       " 'BOTTLE',\n",
       " 'Aroma',\n",
       " '5',\n",
       " 'Appearance',\n",
       " '3',\n",
       " 'Flavor',\n",
       " '6',\n",
       " 'Mouthfeel',\n",
       " '3',\n",
       " 'Overall',\n",
       " '10']"
      ]
     },
     "execution_count": 12,
     "metadata": {},
     "output_type": "execute_result"
    }
   ],
   "source": [
    "#1이사라짐(좋아요)\n",
    "df_1['맥주정보'].iloc[16]"
   ]
  },
  {
   "cell_type": "code",
   "execution_count": 13,
   "id": "8c8a5b5b-1c3d-4aed-8ffb-ef0b1da0c924",
   "metadata": {},
   "outputs": [],
   "source": [
    "# 특정 문자열 제거하기\n",
    "target_string = ['Show less', 'CAN','BOTTLE','CASK']  # 제거할 문자열\n",
    "df_1['맥주정보'] = df_1['맥주정보'].apply(lambda x: [item for item in x if all(target not in item for target in target_string)])\n"
   ]
  },
  {
   "cell_type": "code",
   "execution_count": 14,
   "id": "5d228576-2511-4b6a-b981-5cc010b300bf",
   "metadata": {
    "scrolled": true
   },
   "outputs": [
    {
     "data": {
      "text/plain": [
       "0        [vinivini(9,584), 🇧🇾Homiel, Belarus, 2.9Decemb...\n",
       "1        [italianjohn(5,521), 🇺🇸Penndel, United States,...\n",
       "2        [orda(296), 🇺🇸Aurora, United States, 3.9August...\n",
       "3        [Radek Kliber(8,125), 🇨🇦Toronto (Can) Krotoszy...\n",
       "4        [geologyguy(2,602), 🇺🇸Columbia, United States,...\n",
       "                               ...                        \n",
       "76957    [Shadallion(534), 🇺🇸Sacramento, United States,...\n",
       "76958    [loucynt(101), 🇺🇸United States, 4.2May 16, 200...\n",
       "76959    [karl(157), 🇺🇸Glendale, United States, 4.0Nove...\n",
       "76960    [jamidwyer99(49), 🇺🇸United States, 4.6July 4, ...\n",
       "76961    [Bov(14,982), 🇨🇭Bienne, Switzerland, 2.5Octobe...\n",
       "Name: 맥주정보, Length: 76962, dtype: object"
      ]
     },
     "execution_count": 14,
     "metadata": {},
     "output_type": "execute_result"
    }
   ],
   "source": [
    "df_1['맥주정보']"
   ]
  },
  {
   "cell_type": "code",
   "execution_count": 15,
   "id": "8c418686-14b9-4e3e-9a02-093ae6685a59",
   "metadata": {},
   "outputs": [
    {
     "data": {
      "text/plain": [
       "14"
      ]
     },
     "execution_count": 15,
     "metadata": {},
     "output_type": "execute_result"
    }
   ],
   "source": [
    "len(df_1['맥주정보'].iloc[55])"
   ]
  },
  {
   "cell_type": "code",
   "execution_count": 16,
   "id": "8474d078-2e7a-46c1-acab-00301fa098f9",
   "metadata": {},
   "outputs": [
    {
     "data": {
      "text/plain": [
       "'Clear golden blonde pour with a thin white head and spots of lacing …. Aroma of sweet malts, caramel malt, some light floral notes, grape  and a little bit of lemon … taste is of the same, lemon, little floral, sweet caramel malts, grape and light bitter citrusy hops …. Drinks bigger than a regular lager …. Definitely see the German ingredients in this brew … sessionable little lager'"
      ]
     },
     "execution_count": 16,
     "metadata": {},
     "output_type": "execute_result"
    }
   ],
   "source": [
    "df_1['맥주정보'].iloc[1][3]"
   ]
  },
  {
   "cell_type": "code",
   "execution_count": 17,
   "id": "416f5288-6f7f-4d3a-b4a6-f77f919f698b",
   "metadata": {},
   "outputs": [],
   "source": [
    "#15이상인거 리뷰 합치기(리뷰가 안붙어있어서 길이가 14이면 리뷰가 하나로 되어있음 15이상은 리뷰가 안붙어있어서 붙여야됨)\n",
    "for i in range(len(df_1['맥주정보'])):\n",
    "    if len(df_1['맥주정보'].iloc[i]) > 14:\n",
    "        a = df_1['맥주정보'].iloc[i][3:-10]\n",
    "        merged_text = ' '.join(a)\n",
    "        df_1['맥주정보'].iloc[i] = df_1['맥주정보'].iloc[i][:3] + [merged_text] + df_1['맥주정보'].iloc[i][-10:]"
   ]
  },
  {
   "cell_type": "code",
   "execution_count": 18,
   "id": "1098babc-ff1b-4b4f-9a96-27d24b4a7b14",
   "metadata": {},
   "outputs": [],
   "source": [
    "df__f=df_1.copy()"
   ]
  },
  {
   "cell_type": "code",
   "execution_count": 19,
   "id": "850ea6d3-0ed9-4189-a90e-d39dee4eb43f",
   "metadata": {},
   "outputs": [],
   "source": [
    "import re"
   ]
  },
  {
   "cell_type": "code",
   "execution_count": 20,
   "id": "77ddd92a-9b7d-4593-bf1f-ffe0511bfddf",
   "metadata": {},
   "outputs": [],
   "source": [
    "#정규표현식\n",
    "reg = re.compile('[0-9]+.+[0-9]+[A-Za-z0-9]*')"
   ]
  },
  {
   "cell_type": "markdown",
   "id": "50f829bc-7c8d-4180-b1a1-5425a2f021ad",
   "metadata": {},
   "source": [
    "### 레이팅, 맛척도4가지 전처리"
   ]
  },
  {
   "cell_type": "code",
   "execution_count": 21,
   "id": "86ce857f-4dd4-4d6c-a82c-7da61c8763b8",
   "metadata": {},
   "outputs": [],
   "source": [
    "import re\n",
    "\n",
    "df__f['ID'] = df__f['맥주정보'].apply(lambda x: x[0])\n",
    "\n",
    "for i in range(len(df__f['맥주정보'])):\n",
    "    if len(df__f['맥주정보'].iloc[i]) == 14 and not reg.match(df__f['맥주정보'].iloc[i][1]):\n",
    "        df__f.loc[i, 'date rating'] = df__f['맥주정보'].iloc[i][2]\n",
    "    elif len(df__f['맥주정보'].iloc[i]) == 14 and reg.match(df__f['맥주정보'].iloc[i][1]):\n",
    "        df__f.loc[i, 'date rating'] = df__f['맥주정보'].iloc[i][1]\n",
    "    elif len(df__f['맥주정보'].iloc[i]) == 13:                                            \n",
    "        df__f.loc[i, 'date rating'] = df__f['맥주정보'].iloc[i][1]\n",
    "        \n",
    "for i in range(len(df__f['맥주정보'])):\n",
    "    if len(df__f['맥주정보'].iloc[i]) == 14 and not reg.match(df__f['맥주정보'].iloc[i][1]):\n",
    "        df__f.loc[i, 'review'] = df__f['맥주정보'].iloc[i][3]\n",
    "    elif len(df__f['맥주정보'].iloc[i]) == 14 and reg.match(df__f['맥주정보'].iloc[i][1]):\n",
    "        df__f.loc[i, 'review'] = df__f['맥주정보'].iloc[i][2]\n",
    "    elif len(df__f['맥주정보'].iloc[i]) == 13: \n",
    "        df__f.loc[i, 'review'] = df__f['맥주정보'].iloc[i][2]\n",
    "        \n",
    "for i in range(len(df__f['맥주정보'])):\n",
    "    if len(df__f['맥주정보'].iloc[i]) == 14 and not reg.match(df__f['맥주정보'].iloc[i][1]):\n",
    "        df__f.loc[i, 'Aroma'] = df__f['맥주정보'].iloc[i][5]\n",
    "    elif len(df__f['맥주정보'].iloc[i]) == 14 and reg.match(df__f['맥주정보'].iloc[i][1]):\n",
    "        df__f.loc[i, 'Aroma'] = df__f['맥주정보'].iloc[i][4]\n",
    "    elif len(df__f['맥주정보'].iloc[i]) == 13: \n",
    "        df__f.loc[i, 'Aroma'] = df__f['맥주정보'].iloc[i][4]\n",
    "for i in range(len(df__f['맥주정보'])):\n",
    "    if len(df__f['맥주정보'].iloc[i]) == 14 and not reg.match(df__f['맥주정보'].iloc[i][1]):\n",
    "        df__f.loc[i, 'Appearance'] = df__f['맥주정보'].iloc[i][7]\n",
    "    elif len(df__f['맥주정보'].iloc[i]) == 14 and reg.match(df__f['맥주정보'].iloc[i][1]):\n",
    "        df__f.loc[i, 'Appearance'] = df__f['맥주정보'].iloc[i][6]\n",
    "    elif len(df__f['맥주정보'].iloc[i]) == 13: \n",
    "        df__f.loc[i, 'Appearance'] = df__f['맥주정보'].iloc[i][6]\n",
    "            \n",
    "for i in range(len(df__f['맥주정보'])):\n",
    "    if len(df__f['맥주정보'].iloc[i]) == 14 and not reg.match(df__f['맥주정보'].iloc[i][1]):\n",
    "        df__f.loc[i, 'Flavor'] = df__f['맥주정보'].iloc[i][9]\n",
    "    elif len(df__f['맥주정보'].iloc[i]) == 14 and reg.match(df__f['맥주정보'].iloc[i][1]):\n",
    "        df__f.loc[i, 'Flavor'] = df__f['맥주정보'].iloc[i][8]\n",
    "    elif len(df__f['맥주정보'].iloc[i]) == 13:       \n",
    "        df__f.loc[i, 'Flavor'] = df__f['맥주정보'].iloc[i][8]   \n",
    "        \n",
    "for i in range(len(df__f['맥주정보'])):\n",
    "    if len(df__f['맥주정보'].iloc[i]) == 14 and not reg.match(df__f['맥주정보'].iloc[i][1]):\n",
    "        df__f.loc[i, 'Mouthfeel'] = df__f['맥주정보'].iloc[i][11]\n",
    "    elif len(df__f['맥주정보'].iloc[i]) == 14 and reg.match(df__f['맥주정보'].iloc[i][1]):\n",
    "        df__f.loc[i, 'Mouthfeel'] = df__f['맥주정보'].iloc[i][10]\n",
    "    elif len(df__f['맥주정보'].iloc[i]) == 13:\n",
    "        df__f.loc[i, 'Mouthfeel'] = df__f['맥주정보'].iloc[i][10]"
   ]
  },
  {
   "cell_type": "code",
   "execution_count": 22,
   "id": "97e904d2-8488-49c9-aac8-866e78a694b7",
   "metadata": {},
   "outputs": [
    {
     "data": {
      "text/html": [
       "<div>\n",
       "<style scoped>\n",
       "    .dataframe tbody tr th:only-of-type {\n",
       "        vertical-align: middle;\n",
       "    }\n",
       "\n",
       "    .dataframe tbody tr th {\n",
       "        vertical-align: top;\n",
       "    }\n",
       "\n",
       "    .dataframe thead th {\n",
       "        text-align: right;\n",
       "    }\n",
       "</style>\n",
       "<table border=\"1\" class=\"dataframe\">\n",
       "  <thead>\n",
       "    <tr style=\"text-align: right;\">\n",
       "      <th></th>\n",
       "      <th>맥주정보</th>\n",
       "      <th>검색이름</th>\n",
       "      <th>맥주이름</th>\n",
       "      <th>ID</th>\n",
       "      <th>date rating</th>\n",
       "      <th>review</th>\n",
       "      <th>Aroma</th>\n",
       "      <th>Appearance</th>\n",
       "      <th>Flavor</th>\n",
       "      <th>Mouthfeel</th>\n",
       "    </tr>\n",
       "  </thead>\n",
       "  <tbody>\n",
       "    <tr>\n",
       "      <th>0</th>\n",
       "      <td>[vinivini(9,584), 🇧🇾Homiel, Belarus, 2.9Decemb...</td>\n",
       "      <td>kloud</td>\n",
       "      <td>Kloud Original Gravity</td>\n",
       "      <td>vinivini(9,584)</td>\n",
       "      <td>2.9December 29, 2022</td>\n",
       "      <td>Straight from the can. Clean, malty, bready &amp; ...</td>\n",
       "      <td>5</td>\n",
       "      <td>4</td>\n",
       "      <td>6</td>\n",
       "      <td>4</td>\n",
       "    </tr>\n",
       "    <tr>\n",
       "      <th>1</th>\n",
       "      <td>[italianjohn(5,521), 🇺🇸Penndel, United States,...</td>\n",
       "      <td>kloud</td>\n",
       "      <td>Kloud Original Gravity</td>\n",
       "      <td>italianjohn(5,521)</td>\n",
       "      <td>2.8September 6, 2021</td>\n",
       "      <td>Clear golden blonde pour with a thin white hea...</td>\n",
       "      <td>5</td>\n",
       "      <td>3</td>\n",
       "      <td>5</td>\n",
       "      <td>3</td>\n",
       "    </tr>\n",
       "    <tr>\n",
       "      <th>2</th>\n",
       "      <td>[orda(296), 🇺🇸Aurora, United States, 3.9August...</td>\n",
       "      <td>kloud</td>\n",
       "      <td>Kloud Original Gravity</td>\n",
       "      <td>orda(296)</td>\n",
       "      <td>3.9August 29, 2021</td>\n",
       "      <td>Appearance: golden amber; slight head Taste: d...</td>\n",
       "      <td>10</td>\n",
       "      <td>5</td>\n",
       "      <td>10</td>\n",
       "      <td>5</td>\n",
       "    </tr>\n",
       "    <tr>\n",
       "      <th>3</th>\n",
       "      <td>[Radek Kliber(8,125), 🇨🇦Toronto (Can) Krotoszy...</td>\n",
       "      <td>kloud</td>\n",
       "      <td>Kloud Original Gravity</td>\n",
       "      <td>Radek Kliber(8,125)</td>\n",
       "      <td>2.4June 5, 2021</td>\n",
       "      <td>Bottle 330 ml   Aroma: nice, fresh, on dry sid...</td>\n",
       "      <td>6</td>\n",
       "      <td>3</td>\n",
       "      <td>4</td>\n",
       "      <td>2</td>\n",
       "    </tr>\n",
       "    <tr>\n",
       "      <th>4</th>\n",
       "      <td>[geologyguy(2,602), 🇺🇸Columbia, United States,...</td>\n",
       "      <td>kloud</td>\n",
       "      <td>Kloud Original Gravity</td>\n",
       "      <td>geologyguy(2,602)</td>\n",
       "      <td>2.3May 26, 2021</td>\n",
       "      <td>Smell is light of malt...taste is a that malt ...</td>\n",
       "      <td>4</td>\n",
       "      <td>3</td>\n",
       "      <td>4</td>\n",
       "      <td>3</td>\n",
       "    </tr>\n",
       "    <tr>\n",
       "      <th>...</th>\n",
       "      <td>...</td>\n",
       "      <td>...</td>\n",
       "      <td>...</td>\n",
       "      <td>...</td>\n",
       "      <td>...</td>\n",
       "      <td>...</td>\n",
       "      <td>...</td>\n",
       "      <td>...</td>\n",
       "      <td>...</td>\n",
       "      <td>...</td>\n",
       "    </tr>\n",
       "    <tr>\n",
       "      <th>76957</th>\n",
       "      <td>[Shadallion(534), 🇺🇸Sacramento, United States,...</td>\n",
       "      <td>Erdinger Dunkel</td>\n",
       "      <td>Erdinger Weissbier Dunkel</td>\n",
       "      <td>Shadallion(534)</td>\n",
       "      <td>1.7May 26, 2001</td>\n",
       "      <td>Don't know what these other guys are drinking,...</td>\n",
       "      <td>3</td>\n",
       "      <td>4</td>\n",
       "      <td>2</td>\n",
       "      <td>3</td>\n",
       "    </tr>\n",
       "    <tr>\n",
       "      <th>76958</th>\n",
       "      <td>[loucynt(101), 🇺🇸United States, 4.2May 16, 200...</td>\n",
       "      <td>Erdinger Dunkel</td>\n",
       "      <td>Erdinger Weissbier Dunkel</td>\n",
       "      <td>loucynt(101)</td>\n",
       "      <td>4.2May 16, 2001</td>\n",
       "      <td>.................................................</td>\n",
       "      <td>8</td>\n",
       "      <td>5</td>\n",
       "      <td>8</td>\n",
       "      <td>4</td>\n",
       "    </tr>\n",
       "    <tr>\n",
       "      <th>76959</th>\n",
       "      <td>[karl(157), 🇺🇸Glendale, United States, 4.0Nove...</td>\n",
       "      <td>Erdinger Dunkel</td>\n",
       "      <td>Erdinger Weissbier Dunkel</td>\n",
       "      <td>karl(157)</td>\n",
       "      <td>4.0November 17, 2000</td>\n",
       "      <td>.................................................</td>\n",
       "      <td>7</td>\n",
       "      <td>4</td>\n",
       "      <td>8</td>\n",
       "      <td>4</td>\n",
       "    </tr>\n",
       "    <tr>\n",
       "      <th>76960</th>\n",
       "      <td>[jamidwyer99(49), 🇺🇸United States, 4.6July 4, ...</td>\n",
       "      <td>Erdinger Dunkel</td>\n",
       "      <td>Erdinger Weissbier Dunkel</td>\n",
       "      <td>jamidwyer99(49)</td>\n",
       "      <td>4.6July 4, 2000</td>\n",
       "      <td>.................................................</td>\n",
       "      <td>9</td>\n",
       "      <td>4</td>\n",
       "      <td>9</td>\n",
       "      <td>5</td>\n",
       "    </tr>\n",
       "    <tr>\n",
       "      <th>76961</th>\n",
       "      <td>[Bov(14,982), 🇨🇭Bienne, Switzerland, 2.5Octobe...</td>\n",
       "      <td>Erdinger Dunkel</td>\n",
       "      <td>Erdinger Weissbier Dunkel</td>\n",
       "      <td>Bov(14,982)</td>\n",
       "      <td>2.5October 23, 2003</td>\n",
       "      <td>dark brown colour, giant creamy head, buttery,...</td>\n",
       "      <td>5</td>\n",
       "      <td>5</td>\n",
       "      <td>5</td>\n",
       "      <td>2</td>\n",
       "    </tr>\n",
       "  </tbody>\n",
       "</table>\n",
       "<p>76962 rows × 10 columns</p>\n",
       "</div>"
      ],
      "text/plain": [
       "                                                    맥주정보             검색이름  \\\n",
       "0      [vinivini(9,584), 🇧🇾Homiel, Belarus, 2.9Decemb...            kloud   \n",
       "1      [italianjohn(5,521), 🇺🇸Penndel, United States,...            kloud   \n",
       "2      [orda(296), 🇺🇸Aurora, United States, 3.9August...            kloud   \n",
       "3      [Radek Kliber(8,125), 🇨🇦Toronto (Can) Krotoszy...            kloud   \n",
       "4      [geologyguy(2,602), 🇺🇸Columbia, United States,...            kloud   \n",
       "...                                                  ...              ...   \n",
       "76957  [Shadallion(534), 🇺🇸Sacramento, United States,...  Erdinger Dunkel   \n",
       "76958  [loucynt(101), 🇺🇸United States, 4.2May 16, 200...  Erdinger Dunkel   \n",
       "76959  [karl(157), 🇺🇸Glendale, United States, 4.0Nove...  Erdinger Dunkel   \n",
       "76960  [jamidwyer99(49), 🇺🇸United States, 4.6July 4, ...  Erdinger Dunkel   \n",
       "76961  [Bov(14,982), 🇨🇭Bienne, Switzerland, 2.5Octobe...  Erdinger Dunkel   \n",
       "\n",
       "                            맥주이름                   ID           date rating  \\\n",
       "0         Kloud Original Gravity      vinivini(9,584)  2.9December 29, 2022   \n",
       "1         Kloud Original Gravity   italianjohn(5,521)  2.8September 6, 2021   \n",
       "2         Kloud Original Gravity            orda(296)    3.9August 29, 2021   \n",
       "3         Kloud Original Gravity  Radek Kliber(8,125)       2.4June 5, 2021   \n",
       "4         Kloud Original Gravity    geologyguy(2,602)       2.3May 26, 2021   \n",
       "...                          ...                  ...                   ...   \n",
       "76957  Erdinger Weissbier Dunkel      Shadallion(534)       1.7May 26, 2001   \n",
       "76958  Erdinger Weissbier Dunkel         loucynt(101)       4.2May 16, 2001   \n",
       "76959  Erdinger Weissbier Dunkel            karl(157)  4.0November 17, 2000   \n",
       "76960  Erdinger Weissbier Dunkel      jamidwyer99(49)       4.6July 4, 2000   \n",
       "76961  Erdinger Weissbier Dunkel          Bov(14,982)   2.5October 23, 2003   \n",
       "\n",
       "                                                  review Aroma Appearance  \\\n",
       "0      Straight from the can. Clean, malty, bready & ...     5          4   \n",
       "1      Clear golden blonde pour with a thin white hea...     5          3   \n",
       "2      Appearance: golden amber; slight head Taste: d...    10          5   \n",
       "3      Bottle 330 ml   Aroma: nice, fresh, on dry sid...     6          3   \n",
       "4      Smell is light of malt...taste is a that malt ...     4          3   \n",
       "...                                                  ...   ...        ...   \n",
       "76957  Don't know what these other guys are drinking,...     3          4   \n",
       "76958  .................................................     8          5   \n",
       "76959  .................................................     7          4   \n",
       "76960  .................................................     9          4   \n",
       "76961  dark brown colour, giant creamy head, buttery,...     5          5   \n",
       "\n",
       "      Flavor Mouthfeel  \n",
       "0          6         4  \n",
       "1          5         3  \n",
       "2         10         5  \n",
       "3          4         2  \n",
       "4          4         3  \n",
       "...      ...       ...  \n",
       "76957      2         3  \n",
       "76958      8         4  \n",
       "76959      8         4  \n",
       "76960      9         5  \n",
       "76961      5         2  \n",
       "\n",
       "[76962 rows x 10 columns]"
      ]
     },
     "execution_count": 22,
     "metadata": {},
     "output_type": "execute_result"
    }
   ],
   "source": [
    "df__f"
   ]
  },
  {
   "cell_type": "code",
   "execution_count": null,
   "id": "601990da-d98e-4f2c-a8f5-f357d8574374",
   "metadata": {},
   "outputs": [],
   "source": [
    "# 평점은 0번째부터 3번째슬라이싱 \n",
    "# 날짜는 그 이후 문자열로 처리\n",
    "df__f['rating'] = df__f['date rating'].apply(lambda x : x[:3])\n",
    "df__f['date'] = df__f['date rating'].apply(lambda x : x[3:])        \n",
    "        \n",
    "\n",
    "#점수가 없고 리뷰가 없는 데이터는 삭제\n",
    "df__f = df__f[df__f['Aroma']!='-']\n",
    "df__f = df__f[df__f['Appearance']!='-']\n",
    "df__f = df__f[df__f['Flavor']!='-']\n",
    "df__f = df__f[df__f['Mouthfeel']!='-']\n",
    "df__f = df__f[df__f['review']!='............................................................................']\n"
   ]
  },
  {
   "cell_type": "code",
   "execution_count": 26,
   "id": "d2b556a8-7826-40b0-9f8e-6df0cc24f223",
   "metadata": {
    "scrolled": true
   },
   "outputs": [
    {
     "name": "stdout",
     "output_type": "stream",
     "text": [
      "맥주정보           0\n",
      "검색이름           0\n",
      "맥주이름           0\n",
      "ID             0\n",
      "date rating    0\n",
      "review         0\n",
      "Aroma          0\n",
      "Appearance     0\n",
      "Flavor         0\n",
      "Mouthfeel      0\n",
      "rating         0\n",
      "date           0\n",
      "dtype: int64\n"
     ]
    }
   ],
   "source": [
    "#널값있는지 확인\n",
    "null_counts = df__f.isnull().sum()\n",
    "print(null_counts)"
   ]
  },
  {
   "cell_type": "code",
   "execution_count": 28,
   "id": "5bf0c371-46f5-4455-8c9c-80561078ba85",
   "metadata": {},
   "outputs": [],
   "source": [
    "# 필요한 컬럼만 추출\n",
    "df__f['beer_name']=df__f['맥주이름']\n",
    "df__f = df__f[['ID', 'beer_name', 'date', 'rating','review', 'Aroma', 'Appearance', 'Flavor',\n",
    "       'Mouthfeel']]"
   ]
  },
  {
   "cell_type": "code",
   "execution_count": 30,
   "id": "feb48f19-2897-4ee8-bd46-3a8a5845ac4f",
   "metadata": {},
   "outputs": [],
   "source": [
    "df__f.to_csv('전처리중간df.csv', index=False)"
   ]
  },
  {
   "cell_type": "code",
   "execution_count": 32,
   "id": "3a573684-4507-4848-8a7e-cd3e10d2dc50",
   "metadata": {},
   "outputs": [],
   "source": [
    "###점수를 부여하지않아 크롤링이안되어 점수값에 스트링이 들어가서 형변환 어려움 "
   ]
  },
  {
   "cell_type": "code",
   "execution_count": null,
   "id": "759628dc-6c80-4738-8a80-9ec100bf4612",
   "metadata": {},
   "outputs": [],
   "source": [
    "#숫자아닌 문자는 삭제\n",
    "df__f=df__f[df__f['Aroma'].str.isdigit()]\n",
    "df__f=df__f[df__f['Appearance'].str.isdigit()]\n",
    "df__f=df__f[df__f['Flavor'].str.isdigit()]\n",
    "df__f=df__f[df__f['Mouthfeel'].str.isdigit()]\n",
    "\n",
    "# 수치형 데이터는 실수로 변환 : pd.to_numeric() 함수 사용\n",
    "df__f['Aroma'] = pd.to_numeric(df__f['Aroma'])\n",
    "df__f['Appearance'] = pd.to_numeric(df__f['Appearance'])\n",
    "df__f['Flavor'] = pd.to_numeric(df__f['Flavor'])\n",
    "df__f['Mouthfeel'] = pd.to_numeric(df__f['Mouthfeel'])"
   ]
  },
  {
   "cell_type": "code",
   "execution_count": 36,
   "id": "d1991287-35d7-45a0-bc06-5795b60bcba5",
   "metadata": {
    "scrolled": true
   },
   "outputs": [
    {
     "name": "stdout",
     "output_type": "stream",
     "text": [
      "<class 'pandas.core.frame.DataFrame'>\n",
      "Index: 74464 entries, 0 to 76961\n",
      "Data columns (total 9 columns):\n",
      " #   Column      Non-Null Count  Dtype \n",
      "---  ------      --------------  ----- \n",
      " 0   ID          74464 non-null  object\n",
      " 1   beer_name   74464 non-null  object\n",
      " 2   date        74464 non-null  object\n",
      " 3   rating      74464 non-null  object\n",
      " 4   review      74464 non-null  object\n",
      " 5   Aroma       74464 non-null  int64 \n",
      " 6   Appearance  74464 non-null  int64 \n",
      " 7   Flavor      74464 non-null  int64 \n",
      " 8   Mouthfeel   74464 non-null  int64 \n",
      "dtypes: int64(4), object(5)\n",
      "memory usage: 5.7+ MB\n"
     ]
    }
   ],
   "source": [
    "df__f.info()"
   ]
  },
  {
   "cell_type": "code",
   "execution_count": 37,
   "id": "df9810e4-b345-4f32-84af-00b56407be30",
   "metadata": {},
   "outputs": [],
   "source": [
    "###알코올 추가로 크롤링한 부분 합치기\n",
    "a_df=pd.read_csv('알코올.csv')"
   ]
  },
  {
   "cell_type": "code",
   "execution_count": 38,
   "id": "9df00f85-2a4c-42ee-a114-706b4b69bf87",
   "metadata": {},
   "outputs": [
    {
     "data": {
      "text/html": [
       "<div>\n",
       "<style scoped>\n",
       "    .dataframe tbody tr th:only-of-type {\n",
       "        vertical-align: middle;\n",
       "    }\n",
       "\n",
       "    .dataframe tbody tr th {\n",
       "        vertical-align: top;\n",
       "    }\n",
       "\n",
       "    .dataframe thead th {\n",
       "        text-align: right;\n",
       "    }\n",
       "</style>\n",
       "<table border=\"1\" class=\"dataframe\">\n",
       "  <thead>\n",
       "    <tr style=\"text-align: right;\">\n",
       "      <th></th>\n",
       "      <th>beer_name</th>\n",
       "      <th>alcohol</th>\n",
       "    </tr>\n",
       "  </thead>\n",
       "  <tbody>\n",
       "    <tr>\n",
       "      <th>0</th>\n",
       "      <td>Kloud Original Gravity</td>\n",
       "      <td>5.0%</td>\n",
       "    </tr>\n",
       "    <tr>\n",
       "      <th>1</th>\n",
       "      <td>Kloud Fitz Super Clear</td>\n",
       "      <td>4.5%</td>\n",
       "    </tr>\n",
       "    <tr>\n",
       "      <th>2</th>\n",
       "      <td>Asahi Super Dry</td>\n",
       "      <td>5.0%</td>\n",
       "    </tr>\n",
       "    <tr>\n",
       "      <th>3</th>\n",
       "      <td>Tsingtao</td>\n",
       "      <td>5.0%</td>\n",
       "    </tr>\n",
       "    <tr>\n",
       "      <th>4</th>\n",
       "      <td>Heineken</td>\n",
       "      <td>5.0%</td>\n",
       "    </tr>\n",
       "    <tr>\n",
       "      <th>...</th>\n",
       "      <td>...</td>\n",
       "      <td>...</td>\n",
       "    </tr>\n",
       "    <tr>\n",
       "      <th>64</th>\n",
       "      <td>Berliner Kindl Jubiläums Pilsener Premium</td>\n",
       "      <td>5.1%</td>\n",
       "    </tr>\n",
       "    <tr>\n",
       "      <th>65</th>\n",
       "      <td>Burgemeester</td>\n",
       "      <td>4.8%</td>\n",
       "    </tr>\n",
       "    <tr>\n",
       "      <th>66</th>\n",
       "      <td>Red Rock</td>\n",
       "      <td>5.0%</td>\n",
       "    </tr>\n",
       "    <tr>\n",
       "      <th>67</th>\n",
       "      <td>Erdinger Weissbier Dunkel</td>\n",
       "      <td>5.3%</td>\n",
       "    </tr>\n",
       "    <tr>\n",
       "      <th>68</th>\n",
       "      <td>Warsteiner Premium Verum</td>\n",
       "      <td>4.8%</td>\n",
       "    </tr>\n",
       "  </tbody>\n",
       "</table>\n",
       "<p>69 rows × 2 columns</p>\n",
       "</div>"
      ],
      "text/plain": [
       "                                    beer_name alcohol\n",
       "0                      Kloud Original Gravity    5.0%\n",
       "1                      Kloud Fitz Super Clear    4.5%\n",
       "2                             Asahi Super Dry    5.0%\n",
       "3                                    Tsingtao    5.0%\n",
       "4                                    Heineken    5.0%\n",
       "..                                        ...     ...\n",
       "64  Berliner Kindl Jubiläums Pilsener Premium    5.1%\n",
       "65                               Burgemeester    4.8%\n",
       "66                                   Red Rock    5.0%\n",
       "67                  Erdinger Weissbier Dunkel    5.3%\n",
       "68                   Warsteiner Premium Verum    4.8%\n",
       "\n",
       "[69 rows x 2 columns]"
      ]
     },
     "execution_count": 38,
     "metadata": {},
     "output_type": "execute_result"
    }
   ],
   "source": [
    "a_df"
   ]
  },
  {
   "cell_type": "code",
   "execution_count": 39,
   "id": "b0928b93-4886-488e-9b03-5735b5d2caf8",
   "metadata": {},
   "outputs": [],
   "source": [
    "#알코올을 붙여주기위해서 왼쪽기준(본 df)으로 붙여줌\n",
    "merged_df = pd.merge(df__f, a_df[['beer_name', 'alcohol']], on='beer_name', how='left')\n"
   ]
  },
  {
   "cell_type": "code",
   "execution_count": 40,
   "id": "7cb343c8-3628-4061-94d6-74cb93842b8b",
   "metadata": {
    "scrolled": true
   },
   "outputs": [
    {
     "data": {
      "text/plain": [
       "32"
      ]
     },
     "execution_count": 40,
     "metadata": {},
     "output_type": "execute_result"
    }
   ],
   "source": [
    "merged_df['alcohol'].isnull().sum()"
   ]
  },
  {
   "cell_type": "code",
   "execution_count": 41,
   "id": "a129a2f7-5147-41ce-bcd4-8b6aace9fbca",
   "metadata": {},
   "outputs": [
    {
     "data": {
      "text/plain": [
       "alcohol\n",
       "5.0%    26973\n",
       "4.9%     9499\n",
       "4.2%     6275\n",
       "5.3%     5325\n",
       "4.4%     4236\n",
       "5.5%     3724\n",
       "4.8%     3026\n",
       "4.7%     2931\n",
       "6.5%     2420\n",
       "5.1%     1966\n",
       "4.6%     1736\n",
       "3.8%     1089\n",
       "5.2%     1017\n",
       "5.9%      872\n",
       "2.5%      716\n",
       "3.0%      582\n",
       "4.3%      482\n",
       "4.5%      450\n",
       "8.6%      363\n",
       "7.5%      308\n",
       "3.5%      196\n",
       "0.4%      179\n",
       "0.5%       28\n",
       "2.0%       22\n",
       "5.4%       17\n",
       "Name: count, dtype: int64"
      ]
     },
     "execution_count": 41,
     "metadata": {},
     "output_type": "execute_result"
    }
   ],
   "source": [
    "merged_df['alcohol'].value_counts()"
   ]
  },
  {
   "cell_type": "code",
   "execution_count": 42,
   "id": "be3e2da4-a813-4f41-9ab5-87ccbd41c178",
   "metadata": {},
   "outputs": [
    {
     "data": {
      "text/plain": [
       "32046             Hoegaarden Cherry\n",
       "32047             Hoegaarden Cherry\n",
       "32048             Hoegaarden Cherry\n",
       "32049             Hoegaarden Cherry\n",
       "32050             Hoegaarden Cherry\n",
       "32051             Hoegaarden Cherry\n",
       "32273    Bright Leaf Peeper Red IPA\n",
       "32274    Bright Leaf Peeper Red IPA\n",
       "32275    Bright Leaf Peeper Red IPA\n",
       "32276    Bright Leaf Peeper Red IPA\n",
       "32277    Bright Leaf Peeper Red IPA\n",
       "32278    Bright Leaf Peeper Red IPA\n",
       "56126                        FiLite\n",
       "56127                        FiLite\n",
       "56128                        FiLite\n",
       "56129                        FiLite\n",
       "56130                        FiLite\n",
       "56131                        FiLite\n",
       "56132                        FiLite\n",
       "56133                        FiLite\n",
       "56134                        FiLite\n",
       "56472                  Egger Zwickl\n",
       "56473                  Egger Zwickl\n",
       "56474                  Egger Zwickl\n",
       "56475                  Egger Zwickl\n",
       "56476                  Egger Zwickl\n",
       "56477                  Egger Zwickl\n",
       "56478                  Egger Zwickl\n",
       "56479                  Egger Zwickl\n",
       "56480                  Egger Zwickl\n",
       "56481                  Egger Zwickl\n",
       "71260            Platinum White Ale\n",
       "Name: beer_name, dtype: object"
      ]
     },
     "execution_count": 42,
     "metadata": {},
     "output_type": "execute_result"
    }
   ],
   "source": [
    "#알코올이 넓값인 맥주 리뷰개수가 적기때문에 삭제\n",
    "merged_df[merged_df['alcohol'].isnull()]['beer_name']\n",
    "merged_df.dropna(axis=0,inplace=True)"
   ]
  },
  {
   "cell_type": "code",
   "execution_count": 44,
   "id": "413ba25d-ed9c-42a0-b1b5-c210dcd77ad4",
   "metadata": {},
   "outputs": [],
   "source": [
    "#알코올 숫자뽑기\n",
    "merged_df['alcohol'] = merged_df['alcohol'].apply(lambda x: x[0:3] if x else None)\n"
   ]
  },
  {
   "cell_type": "code",
   "execution_count": 45,
   "id": "f956bbcc-d83b-43a7-a33b-55f0c6e50bf1",
   "metadata": {},
   "outputs": [
    {
     "data": {
      "text/plain": [
       "alcohol\n",
       "5.0    26973\n",
       "4.9     9499\n",
       "4.2     6275\n",
       "5.3     5325\n",
       "4.4     4236\n",
       "5.5     3724\n",
       "4.8     3026\n",
       "4.7     2931\n",
       "6.5     2420\n",
       "5.1     1966\n",
       "4.6     1736\n",
       "3.8     1089\n",
       "5.2     1017\n",
       "5.9      872\n",
       "2.5      716\n",
       "3.0      582\n",
       "4.3      482\n",
       "4.5      450\n",
       "8.6      363\n",
       "7.5      308\n",
       "3.5      196\n",
       "0.4      179\n",
       "0.5       28\n",
       "2.0       22\n",
       "5.4       17\n",
       "Name: count, dtype: int64"
      ]
     },
     "execution_count": 45,
     "metadata": {},
     "output_type": "execute_result"
    }
   ],
   "source": [
    "merged_df['alcohol'].value_counts()"
   ]
  },
  {
   "cell_type": "code",
   "execution_count": 46,
   "id": "a8006cb1-4e4c-4a2e-bf1c-83dae754020f",
   "metadata": {},
   "outputs": [],
   "source": [
    "merged_df['alcohol'] = pd.to_numeric(merged_df['alcohol'])"
   ]
  },
  {
   "cell_type": "markdown",
   "id": "67b4981f-651d-41ae-9a1b-91e1682a6c22",
   "metadata": {},
   "source": [
    "### 전처리 후 저장"
   ]
  },
  {
   "cell_type": "code",
   "execution_count": 48,
   "id": "76959bca-0555-4432-b9d5-ecedf4f70693",
   "metadata": {},
   "outputs": [
    {
     "data": {
      "text/html": [
       "<div>\n",
       "<style scoped>\n",
       "    .dataframe tbody tr th:only-of-type {\n",
       "        vertical-align: middle;\n",
       "    }\n",
       "\n",
       "    .dataframe tbody tr th {\n",
       "        vertical-align: top;\n",
       "    }\n",
       "\n",
       "    .dataframe thead th {\n",
       "        text-align: right;\n",
       "    }\n",
       "</style>\n",
       "<table border=\"1\" class=\"dataframe\">\n",
       "  <thead>\n",
       "    <tr style=\"text-align: right;\">\n",
       "      <th></th>\n",
       "      <th>ID</th>\n",
       "      <th>beer_name</th>\n",
       "      <th>date</th>\n",
       "      <th>rating</th>\n",
       "      <th>review</th>\n",
       "      <th>Aroma</th>\n",
       "      <th>Appearance</th>\n",
       "      <th>Flavor</th>\n",
       "      <th>Mouthfeel</th>\n",
       "      <th>alcohol</th>\n",
       "    </tr>\n",
       "  </thead>\n",
       "  <tbody>\n",
       "    <tr>\n",
       "      <th>0</th>\n",
       "      <td>vinivini(9,584)</td>\n",
       "      <td>Kloud Original Gravity</td>\n",
       "      <td>December 29, 2022</td>\n",
       "      <td>2.9</td>\n",
       "      <td>Straight from the can. Clean, malty, bready &amp; ...</td>\n",
       "      <td>5</td>\n",
       "      <td>4</td>\n",
       "      <td>6</td>\n",
       "      <td>4</td>\n",
       "      <td>5.0</td>\n",
       "    </tr>\n",
       "    <tr>\n",
       "      <th>1</th>\n",
       "      <td>italianjohn(5,521)</td>\n",
       "      <td>Kloud Original Gravity</td>\n",
       "      <td>September 6, 2021</td>\n",
       "      <td>2.8</td>\n",
       "      <td>Clear golden blonde pour with a thin white hea...</td>\n",
       "      <td>5</td>\n",
       "      <td>3</td>\n",
       "      <td>5</td>\n",
       "      <td>3</td>\n",
       "      <td>5.0</td>\n",
       "    </tr>\n",
       "    <tr>\n",
       "      <th>2</th>\n",
       "      <td>orda(296)</td>\n",
       "      <td>Kloud Original Gravity</td>\n",
       "      <td>August 29, 2021</td>\n",
       "      <td>3.9</td>\n",
       "      <td>Appearance: golden amber; slight head Taste: d...</td>\n",
       "      <td>10</td>\n",
       "      <td>5</td>\n",
       "      <td>10</td>\n",
       "      <td>5</td>\n",
       "      <td>5.0</td>\n",
       "    </tr>\n",
       "    <tr>\n",
       "      <th>3</th>\n",
       "      <td>Radek Kliber(8,125)</td>\n",
       "      <td>Kloud Original Gravity</td>\n",
       "      <td>June 5, 2021</td>\n",
       "      <td>2.4</td>\n",
       "      <td>Bottle 330 ml   Aroma: nice, fresh, on dry sid...</td>\n",
       "      <td>6</td>\n",
       "      <td>3</td>\n",
       "      <td>4</td>\n",
       "      <td>2</td>\n",
       "      <td>5.0</td>\n",
       "    </tr>\n",
       "    <tr>\n",
       "      <th>4</th>\n",
       "      <td>geologyguy(2,602)</td>\n",
       "      <td>Kloud Original Gravity</td>\n",
       "      <td>May 26, 2021</td>\n",
       "      <td>2.3</td>\n",
       "      <td>Smell is light of malt...taste is a that malt ...</td>\n",
       "      <td>4</td>\n",
       "      <td>3</td>\n",
       "      <td>4</td>\n",
       "      <td>3</td>\n",
       "      <td>5.0</td>\n",
       "    </tr>\n",
       "    <tr>\n",
       "      <th>...</th>\n",
       "      <td>...</td>\n",
       "      <td>...</td>\n",
       "      <td>...</td>\n",
       "      <td>...</td>\n",
       "      <td>...</td>\n",
       "      <td>...</td>\n",
       "      <td>...</td>\n",
       "      <td>...</td>\n",
       "      <td>...</td>\n",
       "      <td>...</td>\n",
       "    </tr>\n",
       "    <tr>\n",
       "      <th>74459</th>\n",
       "      <td>trappist12(199)</td>\n",
       "      <td>Erdinger Weissbier Dunkel</td>\n",
       "      <td>August 25, 2001</td>\n",
       "      <td>3.7</td>\n",
       "      <td>Overall, a good beer. Nice and dark with a bea...</td>\n",
       "      <td>7</td>\n",
       "      <td>4</td>\n",
       "      <td>7</td>\n",
       "      <td>3</td>\n",
       "      <td>5.3</td>\n",
       "    </tr>\n",
       "    <tr>\n",
       "      <th>74460</th>\n",
       "      <td>Gusler(2,653)</td>\n",
       "      <td>Erdinger Weissbier Dunkel</td>\n",
       "      <td>July 7, 2001</td>\n",
       "      <td>4.3</td>\n",
       "      <td>Been a while since i sampled a Erdinger, still...</td>\n",
       "      <td>8</td>\n",
       "      <td>5</td>\n",
       "      <td>8</td>\n",
       "      <td>5</td>\n",
       "      <td>5.3</td>\n",
       "    </tr>\n",
       "    <tr>\n",
       "      <th>74461</th>\n",
       "      <td>Oakes(28,941)</td>\n",
       "      <td>Erdinger Weissbier Dunkel</td>\n",
       "      <td>May 26, 2001</td>\n",
       "      <td>3.1</td>\n",
       "      <td>Very creamy, with a big foam topping and lucio...</td>\n",
       "      <td>5</td>\n",
       "      <td>5</td>\n",
       "      <td>5</td>\n",
       "      <td>4</td>\n",
       "      <td>5.3</td>\n",
       "    </tr>\n",
       "    <tr>\n",
       "      <th>74462</th>\n",
       "      <td>Shadallion(534)</td>\n",
       "      <td>Erdinger Weissbier Dunkel</td>\n",
       "      <td>May 26, 2001</td>\n",
       "      <td>1.7</td>\n",
       "      <td>Don't know what these other guys are drinking,...</td>\n",
       "      <td>3</td>\n",
       "      <td>4</td>\n",
       "      <td>2</td>\n",
       "      <td>3</td>\n",
       "      <td>5.3</td>\n",
       "    </tr>\n",
       "    <tr>\n",
       "      <th>74463</th>\n",
       "      <td>Bov(14,982)</td>\n",
       "      <td>Erdinger Weissbier Dunkel</td>\n",
       "      <td>October 23, 2003</td>\n",
       "      <td>2.5</td>\n",
       "      <td>dark brown colour, giant creamy head, buttery,...</td>\n",
       "      <td>5</td>\n",
       "      <td>5</td>\n",
       "      <td>5</td>\n",
       "      <td>2</td>\n",
       "      <td>5.3</td>\n",
       "    </tr>\n",
       "  </tbody>\n",
       "</table>\n",
       "<p>74432 rows × 10 columns</p>\n",
       "</div>"
      ],
      "text/plain": [
       "                        ID                  beer_name               date  \\\n",
       "0          vinivini(9,584)     Kloud Original Gravity  December 29, 2022   \n",
       "1       italianjohn(5,521)     Kloud Original Gravity  September 6, 2021   \n",
       "2                orda(296)     Kloud Original Gravity    August 29, 2021   \n",
       "3      Radek Kliber(8,125)     Kloud Original Gravity       June 5, 2021   \n",
       "4        geologyguy(2,602)     Kloud Original Gravity       May 26, 2021   \n",
       "...                    ...                        ...                ...   \n",
       "74459      trappist12(199)  Erdinger Weissbier Dunkel    August 25, 2001   \n",
       "74460        Gusler(2,653)  Erdinger Weissbier Dunkel       July 7, 2001   \n",
       "74461        Oakes(28,941)  Erdinger Weissbier Dunkel       May 26, 2001   \n",
       "74462      Shadallion(534)  Erdinger Weissbier Dunkel       May 26, 2001   \n",
       "74463          Bov(14,982)  Erdinger Weissbier Dunkel   October 23, 2003   \n",
       "\n",
       "      rating                                             review  Aroma  \\\n",
       "0        2.9  Straight from the can. Clean, malty, bready & ...      5   \n",
       "1        2.8  Clear golden blonde pour with a thin white hea...      5   \n",
       "2        3.9  Appearance: golden amber; slight head Taste: d...     10   \n",
       "3        2.4  Bottle 330 ml   Aroma: nice, fresh, on dry sid...      6   \n",
       "4        2.3  Smell is light of malt...taste is a that malt ...      4   \n",
       "...      ...                                                ...    ...   \n",
       "74459    3.7  Overall, a good beer. Nice and dark with a bea...      7   \n",
       "74460    4.3  Been a while since i sampled a Erdinger, still...      8   \n",
       "74461    3.1  Very creamy, with a big foam topping and lucio...      5   \n",
       "74462    1.7  Don't know what these other guys are drinking,...      3   \n",
       "74463    2.5  dark brown colour, giant creamy head, buttery,...      5   \n",
       "\n",
       "       Appearance  Flavor  Mouthfeel  alcohol  \n",
       "0               4       6          4      5.0  \n",
       "1               3       5          3      5.0  \n",
       "2               5      10          5      5.0  \n",
       "3               3       4          2      5.0  \n",
       "4               3       4          3      5.0  \n",
       "...           ...     ...        ...      ...  \n",
       "74459           4       7          3      5.3  \n",
       "74460           5       8          5      5.3  \n",
       "74461           5       5          4      5.3  \n",
       "74462           4       2          3      5.3  \n",
       "74463           5       5          2      5.3  \n",
       "\n",
       "[74432 rows x 10 columns]"
      ]
     },
     "execution_count": 48,
     "metadata": {},
     "output_type": "execute_result"
    }
   ],
   "source": [
    "merged_df"
   ]
  },
  {
   "cell_type": "code",
   "execution_count": null,
   "id": "983e8e19-e25f-45dc-822a-8b30ffea9158",
   "metadata": {},
   "outputs": [],
   "source": [
    "\n",
    "f_df.to_csv('merged_df.csv',index=False)"
   ]
  }
 ],
 "metadata": {
  "kernelspec": {
   "display_name": "Python 3 (ipykernel)",
   "language": "python",
   "name": "python3"
  },
  "language_info": {
   "codemirror_mode": {
    "name": "ipython",
    "version": 3
   },
   "file_extension": ".py",
   "mimetype": "text/x-python",
   "name": "python",
   "nbconvert_exporter": "python",
   "pygments_lexer": "ipython3",
   "version": "3.11.7"
  }
 },
 "nbformat": 4,
 "nbformat_minor": 5
}
